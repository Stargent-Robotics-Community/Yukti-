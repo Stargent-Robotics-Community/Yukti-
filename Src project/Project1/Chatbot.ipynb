{
 "cells": [
  {
   "cell_type": "code",
   "execution_count": 1,
   "id": "ac08b99e",
   "metadata": {},
   "outputs": [],
   "source": [
    "import pyttsx3"
   ]
  },
  {
   "cell_type": "code",
   "execution_count": 2,
   "id": "610cb062",
   "metadata": {},
   "outputs": [],
   "source": [
    "engine=pyttsx3.init()"
   ]
  },
  {
   "cell_type": "code",
   "execution_count": 3,
   "id": "d6623bb0",
   "metadata": {},
   "outputs": [],
   "source": [
    "##property"
   ]
  },
  {
   "cell_type": "code",
   "execution_count": 6,
   "id": "5496e165",
   "metadata": {},
   "outputs": [],
   "source": [
    "engine.say(\"Hello Yukti\")\n",
    "engine.say(\"I am Rubo\")\n",
    "engine.runAndWait()"
   ]
  },
  {
   "cell_type": "code",
   "execution_count": 7,
   "id": "402d21d3",
   "metadata": {},
   "outputs": [],
   "source": [
    "#speech to text\n",
    "#pip install SpeechRecognition\n",
    "#pip install pyAudio"
   ]
  },
  {
   "cell_type": "code",
   "execution_count": 8,
   "id": "7b78f2ad",
   "metadata": {},
   "outputs": [],
   "source": [
    "import speech_recognition as sr"
   ]
  },
  {
   "cell_type": "code",
   "execution_count": 9,
   "id": "441b6682",
   "metadata": {},
   "outputs": [],
   "source": [
    "r=sr.Recognizer()"
   ]
  },
  {
   "cell_type": "code",
   "execution_count": null,
   "id": "0073cce2",
   "metadata": {},
   "outputs": [
    {
     "name": "stdout",
     "output_type": "stream",
     "text": [
      "Speak Something\n"
     ]
    }
   ],
   "source": [
    "with sr.Microphone() as source:\n",
    "    print(\"Speak Something\")\n",
    "    audio = r.listen(source)\n",
    "    \n",
    "    text=r.recognize_google(audio)\n",
    "    print(text)"
   ]
  },
  {
   "cell_type": "code",
   "execution_count": null,
   "id": "c6e8176b",
   "metadata": {},
   "outputs": [],
   "source": [
    "try:\n",
    " if text==\"Hello\":\n",
    "    print(\"Hello,How are you\")\n",
    "    engine.say(\"Hello,How are you\")\n",
    "    engineAndWait()"
   ]
  },
  {
   "cell_type": "code",
   "execution_count": null,
   "id": "27ae01c6",
   "metadata": {},
   "outputs": [],
   "source": [
    "elif text==\"I am fine\":\n",
    "    print(\"that's great,How shall I help you\")\n",
    "    engine.say(\"that's great,How shall I help you\")\n",
    "    engineAndWait()"
   ]
  },
  {
   "cell_type": "code",
   "execution_count": null,
   "id": "4888be3d",
   "metadata": {},
   "outputs": [],
   "source": [
    "elif text==\"Who created you\":\n",
    "    print(\"I am created by Yukti\")\n",
    "    engine.say(\"I amcreated by Yukti\")\n",
    "    engineAndWait()"
   ]
  },
  {
   "cell_type": "code",
   "execution_count": null,
   "id": "3b7fd7b7",
   "metadata": {},
   "outputs": [],
   "source": [
    "elif text==\"Thanks Rubo\":\n",
    "    print(\"Welcome Yukti\")\n",
    "    engine.say(\"Welcome Yukti\")\n",
    "    engineAndWait()"
   ]
  },
  {
   "cell_type": "code",
   "execution_count": null,
   "id": "262fee67",
   "metadata": {},
   "outputs": [],
   "source": [
    "except:\n",
    "    enine.say(\"Sorry,could not recognise your voice\")\n",
    "    print(\": sorry,try again\")    "
   ]
  }
 ],
 "metadata": {
  "kernelspec": {
   "display_name": "Python 3",
   "language": "python",
   "name": "python3"
  },
  "language_info": {
   "codemirror_mode": {
    "name": "ipython",
    "version": 3
   },
   "file_extension": ".py",
   "mimetype": "text/x-python",
   "name": "python",
   "nbconvert_exporter": "python",
   "pygments_lexer": "ipython3",
   "version": "3.8.8"
  }
 },
 "nbformat": 4,
 "nbformat_minor": 5
}
